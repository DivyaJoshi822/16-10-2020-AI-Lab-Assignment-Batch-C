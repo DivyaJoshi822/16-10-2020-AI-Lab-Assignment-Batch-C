{
 "cells": [
  {
   "cell_type": "code",
   "execution_count": 3,
   "metadata": {},
   "outputs": [
    {
     "name": "stdout",
     "output_type": "stream",
     "text": [
      "The first fuzzy set is: {'0': 0, '20': 0.5, '40': 0.65, '60': 0.85, '80': 1, '100': 1}\n",
      "The second fuzzy set is: {'0': 0, '20': 0.35, '40': 0.5, '60': 0.75, '80': 0.9, '100': 1}\n"
     ]
    }
   ],
   "source": [
    "A = dict()\n",
    "B = dict()\n",
    "C = dict()\n",
    "\n",
    "A = {\"0\":0, \"20\":0.5, \"40\":0.65, \"60\":0.85, \"80\":1, \"100\":1}\n",
    "B = {\"0\":0, \"20\":0.35, \"40\":0.5, \"60\":0.75, \"80\":0.90, \"100\":1}\n",
    "\n",
    "print(\"The first fuzzy set is:\", A)\n",
    "print(\"The second fuzzy set is:\", B)"
   ]
  },
  {
   "cell_type": "code",
   "execution_count": 5,
   "metadata": {},
   "outputs": [
    {
     "name": "stdout",
     "output_type": "stream",
     "text": [
      "Fuzzy Set Union is : {'0': 0, '20': 0.5, '40': 0.65, '60': 0.85, '80': 1, '100': 1}\n"
     ]
    }
   ],
   "source": [
    "#union\n",
    "for A_key, B_key in zip(A, B):\n",
    "    A_value = A[A_key]\n",
    "    B_value = B[B_key]\n",
    "    if A_value > B_value:\n",
    "        C[A_key] = A_value\n",
    "    else:\n",
    "        C[B_key] = B_value\n",
    "print(\"Fuzzy Set Union is :\", C)\n"
   ]
  },
  {
   "cell_type": "code",
   "execution_count": 6,
   "metadata": {},
   "outputs": [
    {
     "name": "stdout",
     "output_type": "stream",
     "text": [
      "Fuzzy Set Intersection is : {'0': 0, '20': 0.35, '40': 0.5, '60': 0.75, '80': 0.9, '100': 1}\n"
     ]
    }
   ],
   "source": [
    "#Intersection\n",
    "for A_key, B_key in zip(A, B):\n",
    "    A_value = A[A_key]\n",
    "    B_value = B[B_key]\n",
    "    if A_value < B_value:\n",
    "        C[A_key] = A_value\n",
    "    else:\n",
    "        C[B_key] = B_value\n",
    "print(\"Fuzzy Set Intersection is :\", C)\n"
   ]
  },
  {
   "cell_type": "code",
   "execution_count": 13,
   "metadata": {},
   "outputs": [
    {
     "name": "stdout",
     "output_type": "stream",
     "text": [
      "Fuzzy Set De morgans: {'0': 1, '20': 0.65, '40': 0.5, '60': 0.25, '80': 0.09999999999999998, '100': 0}\n"
     ]
    }
   ],
   "source": [
    "#De Morgans’\n",
    "for A_key, B_key in zip(A, B): \n",
    "    A_value = 1 - A[A_key]\n",
    "    B_value = 1 - B[B_key]\n",
    "  \n",
    "    if A_value > B_value: \n",
    "        C[A_key] = 1 - A[A_key]\n",
    "    else: \n",
    "        C[B_key] = 1 - B[B_key]\n",
    "        \n",
    "print(\"Fuzzy Set De morgans:\", C)\n"
   ]
  },
  {
   "cell_type": "code",
   "execution_count": 14,
   "metadata": {},
   "outputs": [
    {
     "name": "stdout",
     "output_type": "stream",
     "text": [
      "Fuzzy Set Demorgan: {'0': 1, '20': 0.65, '40': 0.5, '60': 0.25, '80': 0.09999999999999998, '100': 0}\n"
     ]
    }
   ],
   "source": [
    "for A_key, B_key in zip(A, B): \n",
    "    A_value = A[A_key] \n",
    "    B_value = B[B_key] \n",
    "  \n",
    "    if A_value < B_value: \n",
    "        C[A_key] = 1 - A[A_key]\n",
    "    else: \n",
    "        C[B_key] = 1 - B[B_key]\n",
    "        \n",
    "print(\"Fuzzy Set Demorgan:\", C)\n"
   ]
  },
  {
   "cell_type": "code",
   "execution_count": null,
   "metadata": {},
   "outputs": [],
   "source": []
  }
 ],
 "metadata": {
  "kernelspec": {
   "display_name": "Python 3",
   "language": "python",
   "name": "python3"
  },
  "language_info": {
   "codemirror_mode": {
    "name": "ipython",
    "version": 3
   },
   "file_extension": ".py",
   "mimetype": "text/x-python",
   "name": "python",
   "nbconvert_exporter": "python",
   "pygments_lexer": "ipython3",
   "version": "3.8.3"
  }
 },
 "nbformat": 4,
 "nbformat_minor": 4
}
